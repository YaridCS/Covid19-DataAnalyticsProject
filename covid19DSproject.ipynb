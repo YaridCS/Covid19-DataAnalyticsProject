{
 "cells": [
  {
   "cell_type": "markdown",
   "metadata": {},
   "source": [
    "Covid-19 Computational Data Analytics and Analysis Project"
   ]
  },
  {
   "cell_type": "code",
   "execution_count": 45,
   "metadata": {},
   "outputs": [],
   "source": [
    "import io\n",
    "import pandas as pd\n",
    "import requests\n",
    "import numpy as np\n"
   ]
  },
  {
   "cell_type": "markdown",
   "metadata": {},
   "source": [
    "First we need to implement the data into our code. \n",
    "\n",
    "We can do this by using the requests.get function \n",
    "and reading the data contained in a .csv file.\n"
   ]
  },
  {
   "cell_type": "code",
   "execution_count": 46,
   "metadata": {},
   "outputs": [],
   "source": [
    "url = 'https://raw.githubusercontent.com/owid/covid-19-data/master/public/data/owid-covid-data.csv'\n",
    "response = requests.get(url)\n",
    "data = io.StringIO(response.content.decode('utf-8'))\n",
    "\n",
    "df = pd.read_csv(data)\n",
    "\n",
    "\n",
    "df.to_csv('covid19_datatable_original.csv', index=False)"
   ]
  },
  {
   "cell_type": "markdown",
   "metadata": {},
   "source": [
    "This is an image of what our dataset currently looks like. \n",
    "\n",
    "\n",
    "![Image not loaded](https://i.imgur.com/fidBhWp.png)\n",
    "\n"
   ]
  },
  {
   "cell_type": "markdown",
   "metadata": {},
   "source": [
    "Now that we have the data, we can start organizing and cleaning the dataset so it is easier to read and understand."
   ]
  },
  {
   "cell_type": "code",
   "execution_count": 47,
   "metadata": {},
   "outputs": [],
   "source": [
    "# Isolating data from the columns of interest\n",
    "df = df[['location', 'total_cases', 'total_deaths', 'total_tests', 'positive_rate', \n",
    "'total_vaccinations', 'people_vaccinated', 'total_boosters', 'people_fully_vaccinated']]\n",
    "\n",
    "\n",
    "# Renaming the columns for better readability\n",
    "df.columns = ['Country or Location', 'Cumulative Total of Confirmed Covid-19 Cases', 'Cumulative Total of Confirmed Covid-19 Deaths', \n",
    "'Total Number of Covid-19 Tests Taken', 'Share of Positive Covid-19 Tests (%)', \n",
    "'Total Number of Vaccinations Administered', 'Total Number of People who Received at Least One Vaccine Dose', \n",
    "'Total Number of People who Received Only the Booster Dose', 'Total Number of People Who Receieved All Vacine Doses']\n",
    "\n",
    "\n",
    "# Replace the duplicate entries by taking the maximum value of each column for each Country or Location\n",
    "\n",
    "df = df.groupby('Country or Location').agg({\n",
    "    'Cumulative Total of Confirmed Covid-19 Cases': 'max', \n",
    "    'Cumulative Total of Confirmed Covid-19 Deaths': 'max', \n",
    "    'Total Number of Covid-19 Tests Taken': 'max', \n",
    "    'Share of Positive Covid-19 Tests (%)': 'max', \n",
    "    'Total Number of Vaccinations Administered': 'max', \n",
    "    'Total Number of People who Received at Least One Vaccine Dose': 'max',\n",
    "    'Total Number of People who Received Only the Booster Dose': 'max',\n",
    "    'Total Number of People Who Receieved All Vacine Doses': 'max',\n",
    "    }).reset_index()\n",
    "\n",
    "\n",
    "# Fill in missing values\n",
    "\n",
    "df.fillna(\"Data Not Observed\", inplace=True)\n",
    "\n",
    "\n",
    "df.to_csv('covid19_datatable_cleaned.csv', index=False)\n"
   ]
  },
  {
   "cell_type": "markdown",
   "metadata": {},
   "source": [
    "The columns have been renamed for better understandability and clarity. The missing data entries have been filled in \n",
    "with \"Data Not Observed.\" \n",
    "\n",
    "Duplicate entries for the same country or location have also been removed. The dataset should now be much easier to read. "
   ]
  },
  {
   "cell_type": "markdown",
   "metadata": {},
   "source": [
    "![Image not loaded](https://i.imgur.com/0uchf5o.png)"
   ]
  },
  {
   "cell_type": "markdown",
   "metadata": {},
   "source": [
    "![Image not loaded](https://i.imgur.com/49Nfp4Z.png)"
   ]
  },
  {
   "cell_type": "markdown",
   "metadata": {},
   "source": [
    "In this column, we can see that I wanted the data to be measured in percents for clarity and readibility reasons. However, the data stored here\n",
    "was not correctly updated to reflect a proper percentage so it needs to be addressed."
   ]
  },
  {
   "cell_type": "code",
   "execution_count": 48,
   "metadata": {},
   "outputs": [],
   "source": [
    "def round2percent(value):\n",
    "    if value == \"Data Not Observed\":\n",
    "        return value\n",
    "    else:\n",
    "        return round(value * 100, 2)\n",
    "\n",
    "df['Share of Positive Covid-19 Tests (%)'] = df['Share of Positive Covid-19 Tests (%)'].apply(round2percent)\n",
    "\n",
    "\n",
    "df.to_csv('covid19_datatable_cleaned.csv', index=False)\n"
   ]
  },
  {
   "cell_type": "markdown",
   "metadata": {},
   "source": [
    "![Image not loaded](https://i.imgur.com/wX0GUaP.png)\n"
   ]
  },
  {
   "cell_type": "markdown",
   "metadata": {},
   "source": [
    "Looking at the data, the numbers can range from being extremely large to being extremely small. \n",
    "\n",
    "This means it can be difficult to properly read and understand what each data entry \n",
    "means and its overall value. "
   ]
  },
  {
   "cell_type": "code",
   "execution_count": 49,
   "metadata": {},
   "outputs": [],
   "source": [
    "# If the entry is above 1 million, I want to round to the nearest million and then to the nearest tenth. So for\n",
    "# example an entry should be 125.5 million. \n",
    "\n",
    "def millions_rounding(value_entry):\n",
    "    if value_entry == \"Data Not Observed\":\n",
    "        return value_entry\n",
    "    value_entry = float(value_entry)\n",
    "    if value_entry >= 1_000_000:\n",
    "        return f\"{value_entry / 1_000_000:.1f} million\".replace(\".0 million\", \" million\")\n",
    "    else:\n",
    "        return f\"{value_entry:,.0f}\"\n",
    "\n",
    "\n",
    "\n",
    "\n",
    "# Leave out the Positive Tests column since the data in that column is in percents\n",
    "\n",
    "columns_to_change = [\n",
    "    'Cumulative Total of Confirmed Covid-19 Cases', \n",
    "    'Cumulative Total of Confirmed Covid-19 Deaths', \n",
    "    'Total Number of Covid-19 Tests Taken', \n",
    "    'Total Number of Vaccinations Administered', \n",
    "    'Total Number of People who Received at Least One Vaccine Dose', \n",
    "    'Total Number of People who Received Only the Booster Dose',\n",
    "    'Total Number of People Who Receieved All Vacine Doses'\n",
    "]\n",
    "\n",
    "for entry in columns_to_change:\n",
    "    df[entry] = df[entry].apply(millions_rounding)\n",
    "\n",
    "\n",
    "df.to_csv('covid19_datatable_cleaned.csv', index=False)\n"
   ]
  },
  {
   "cell_type": "markdown",
   "metadata": {},
   "source": [
    "![Image not loaded](https://i.imgur.com/4457JDf.png)\n"
   ]
  },
  {
   "cell_type": "markdown",
   "metadata": {},
   "source": [
    "Data clustering can be performed in large data sets like these to see observable trends within the data.\n",
    "The only problem is that there are quite a few missing data entries. One solution is to implement a prediction algorithm that can help estimate the values of these missing data entries. However, by doing this, the authenticity of \n",
    "the dataset will be ruined since we will be using made up values instead of real, observed data. For this reason, we can create multiple datasets with different prediction algorithms and observe the difference in clustering results when compared to the original data set. The original and unedited dataset will still be present, but with prediction algorithms to fill in the data, perhaps more conclusions can be drawn from the data observed."
   ]
  },
  {
   "cell_type": "code",
   "execution_count": 50,
   "metadata": {},
   "outputs": [],
   "source": [
    "from sklearn.impute import KNNImputer\n",
    "\n",
    "# We need to replace the strings with integers to perform math operations\n",
    "\n",
    "df.replace(\"Data Not Observed\", np.nan, inplace=True)\n",
    "\n",
    "columns_to_use = [\n",
    "    'Cumulative Total of Confirmed Covid-19 Cases', \n",
    "    'Cumulative Total of Confirmed Covid-19 Deaths', \n",
    "    'Total Number of Covid-19 Tests Taken', \n",
    "    'Total Number of Vaccinations Administered', \n",
    "    'Total Number of People who Received at Least One Vaccine Dose', \n",
    "    'Total Number of People who Received Only the Booster Dose',\n",
    "    'Total Number of People Who Receieved All Vacine Doses'\n",
    "]\n",
    "\n",
    "# We need to revert back to our regular numbers we used for the dataset instead of the way we rounded to the \n",
    "# nearest million\n",
    "\n",
    "def undo_millions_rounding(value):\n",
    "    if pd.isna(value):\n",
    "        return value\n",
    "    if isinstance(value, str):\n",
    "        if \"million\" in value:\n",
    "            return float(value.replace(\" million\", \"\")) * 1_000_000\n",
    "        elif \",\" in value:\n",
    "            return float(value.replace(\",\", \"\"))\n",
    "    else:\n",
    "        return value\n",
    "\n",
    "\n",
    "\n",
    "for entry in columns_to_use:\n",
    "    df[entry] = df[entry].apply(undo_millions_rounding)\n",
    "\n",
    "# We can store our original value for the country or location column in another variable and delete\n",
    "# it from the dataset temporarily to perform our algorithm \n",
    "\n",
    "new_countries = df['Country or Location']\n",
    "dropped_column_DS = df.drop('Country or Location', axis=1)\n",
    "\n",
    "# Now we can implement the KNN algorithm\n",
    "\n",
    "knn_imputer = KNNImputer(n_neighbors=5) # In this example, our K value is 5, we can change this to any number\n",
    "#                                         number of neighbors to run the KNN algorithm on\n",
    "\n",
    "knn_imputeDS = knn_imputer.fit_transform(dropped_column_DS)\n",
    "knn_imputeDF = pd.DataFrame(knn_imputeDS, columns=dropped_column_DS.columns)\n",
    "knn_imputeDF['Country or Location'] = new_countries\n",
    "\n",
    "# If the country or location had no neighbors to use in the KNN computation, we can fill them using the median of the columns\n",
    "knn_imputeDF[columns_to_use] = knn_imputeDF[columns_to_use].fillna(knn_imputeDF[columns_to_use].median())\n",
    "\n",
    "# Now we need to reupdate the ordering of columns and make sure our Country column is the first one\n",
    "\n",
    "col = ['Country or Location'] + [col for col in knn_imputeDF.columns if col != 'Country or Location']\n",
    "knn_imputeDF = knn_imputeDF[col]\n",
    "\n",
    "knn_imputeDF.to_csv('KNN_covid_data_table.csv', index=False)"
   ]
  },
  {
   "cell_type": "markdown",
   "metadata": {},
   "source": [
    "![Image not loaded](https://i.imgur.com/mJ2RHPy.png)\n"
   ]
  },
  {
   "cell_type": "markdown",
   "metadata": {},
   "source": [
    "The KNN algorithm has finally been implemented to fill in the missing data entries. However, the dataset\n",
    "has become messy again and difficult to read. It needs to be updated using the same methods we used previously"
   ]
  },
  {
   "cell_type": "code",
   "execution_count": 51,
   "metadata": {},
   "outputs": [],
   "source": [
    "df = pd.read_csv('KNN_covid_data_table.csv')\n",
    "df.replace(\"Data Not Observed\", np.nan, inplace=True)\n",
    "\n",
    "# Make sure entries in 'Share of Positive Covid-19 Tests (%)' column are rounded to the nearest hundredth\n",
    "df['Share of Positive Covid-19 Tests (%)'] = df['Share of Positive Covid-19 Tests (%)'].round(2)\n",
    "\n",
    "\n",
    "df.fillna(\"Data Not Observed\", inplace=True)\n",
    "\n",
    "# Apply the millions_rounding function to each data entry in every column \n",
    "\n",
    "for col in columns_to_use:\n",
    "    df[col] = df[col].apply(millions_rounding)\n",
    "\n",
    "\n",
    "df.to_csv('KNN_covid_data_table.csv', index=False)\n"
   ]
  },
  {
   "cell_type": "markdown",
   "metadata": {},
   "source": [
    "![Image not loaded](https://i.imgur.com/lxWeSwZ.png)\n"
   ]
  },
  {
   "cell_type": "code",
   "execution_count": 52,
   "metadata": {},
   "outputs": [],
   "source": [
    "import pandas as pd\n",
    "import numpy as np\n",
    "import geopandas as gpd\n",
    "import plotly.express as px\n",
    "\n",
    "from sklearn.preprocessing import StandardScaler\n",
    "from sklearn.cluster import DBSCAN\n",
    "from sklearn.impute import SimpleImputer\n",
    "import os\n",
    "\n",
    "# We use a module called os and join paths with the directory to load up our .csv files. The reason I did this \n",
    "# is so that anyone with the saved .csv files from running my code is able to perform the actions of this project.\n",
    "# In other words, I did not want to load the files locally so the code is inaccessible for other people to run.\n",
    "\n",
    "current_directory = os.getcwd()\n",
    "\n",
    "dataset1 = pd.read_csv(os.path.join(current_directory, 'covid19_datatable_cleaned.csv'))\n",
    "dataset2 = pd.read_csv(os.path.join(current_directory, 'KNN_covid_data_table.csv'))\n",
    "\n",
    "\n",
    "\n",
    "# Now we can begin the clustering part. In this case, I used the DBSCAN algorithm to perform the dataset clustering\n",
    "\n",
    "def updating_data_entries(df):\n",
    "\n",
    "    # We need to drop the country or location column again since it is not numeric\n",
    "\n",
    "    numeric_df = df.drop('Country or Location', axis=1)\n",
    "    \n",
    "    # We need to replace all the strings with an integer type\n",
    "\n",
    "    numeric_df.replace(\"Data Not Observed\", np.nan, inplace=True)\n",
    "\n",
    "    # We have to undo the millions rounding function that we used on our data \n",
    "\n",
    "    for column in columns_to_use:\n",
    "        numeric_df[column] = numeric_df[column].apply(undo_millions_rounding)\n",
    "\n",
    "    # Now we can covert all data to a numeric data frame without issue\n",
    "\n",
    "    numeric_df = numeric_df.apply(pd.to_numeric)\n",
    "\n",
    "    # For values that are still missing we can use the median values of that respective column to fill it in\n",
    "\n",
    "    imputer = SimpleImputer(strategy='median')\n",
    "    imputed_data = imputer.fit_transform(numeric_df)\n",
    "\n",
    "    # We need to make sure the data is scaled correctly and properly as we make the dataset\n",
    "\n",
    "    scaler = StandardScaler()\n",
    "    scaled_data = scaler.fit_transform(imputed_data)\n",
    "\n",
    "    return scaled_data\n",
    "\n",
    "\n",
    "# Now we can run the function on our datasets\n",
    "\n",
    "updated_dataset1 = updating_data_entries(dataset1)\n",
    "updated_dataset2 = updating_data_entries(dataset2)\n",
    "\n",
    "# We need to define the epsilon distance (max distance between two neighboring points) and min samples\n",
    "# (the minimum number of samples required for a neighbor of data entries to be considered a cluster) I used 3 and 2\n",
    "# but this can be changed\n",
    "\n",
    "eps = 3\n",
    "min_samples = 2\n",
    "\n",
    "# Finally we can correctly run the DBSCAN algorithm on our data sets using the proper formatting\n",
    "\n",
    "DBSCAN_set1 = DBSCAN(eps=eps, min_samples=min_samples).fit(updated_dataset1)\n",
    "DBSCAN_set2 = DBSCAN(eps=eps, min_samples=min_samples).fit(updated_dataset2)\n",
    "\n",
    "\n",
    "# Reassess our data for cluster in each dataset\n",
    "\n",
    "dataset1['Cluster'] = DBSCAN_set1.labels_\n",
    "dataset2['Cluster'] = DBSCAN_set2.labels_\n",
    "\n"
   ]
  },
  {
   "cell_type": "markdown",
   "metadata": {},
   "source": [
    "Now that the clustering is finished, the visualization section needs to be coded so it can be seen and analyzed.\n",
    "\n",
    "For this project I used the DBSCAN clustering algorithm. The reason for this was because this clustering algorithm\n",
    "is able to resist outliers and large variances in data. It is also able to handle and accurately cluster large\n",
    "amounts of data. \n"
   ]
  },
  {
   "cell_type": "code",
   "execution_count": 53,
   "metadata": {},
   "outputs": [
    {
     "data": {
      "application/vnd.plotly.v1+json": {
       "config": {
        "plotlyServerURL": "https://plot.ly"
       },
       "data": [
        {
         "hovertemplate": "<b>%{hovertext}</b><br><br>Cumulative Total of Confirmed Covid-19 Cases=%{x}<br>Cumulative Total of Confirmed Covid-19 Deaths=%{y}<br>Cluster=%{marker.color}<extra></extra>",
         "hovertext": [
          "Nepal",
          "Mongolia",
          "Uruguay",
          "Panama",
          "Montserrat",
          "Falkland Islands",
          "United Arab Emirates",
          "Ecuador",
          "Puerto Rico",
          "Cuba",
          "Lebanon",
          "Guatemala",
          "Bolivia",
          "Tunisia",
          "Costa Rica",
          "Morocco",
          "Croatia",
          "Bulgaria",
          "Slovenia",
          "Lithuania",
          "Kazakhstan",
          "Norway",
          "Finland",
          "Pakistan",
          "Jordan",
          "Ireland",
          "Georgia",
          "Slovakia",
          "Argentina",
          "Eritrea",
          "United States",
          "Angola",
          "Barbados",
          "Sint Maarten (Dutch part)",
          "Bonaire Sint Eustatius and Saba",
          "Yemen",
          "Greenland",
          "Australia",
          "Vietnam",
          "Malta",
          "Vanuatu",
          "Saint Martin (French part)",
          "Gambia",
          "North America",
          "Cameroon",
          "Northern Mariana Islands",
          "Africa",
          "Spain",
          "Oceania",
          "Rwanda",
          "Cambodia",
          "Central African Republic",
          "Djibouti",
          "Nicaragua",
          "Dominica",
          "Jamaica",
          "Marshall Islands",
          "Samoa",
          "Monaco",
          "Tonga",
          "Turkey",
          "Equatorial Guinea",
          "Tajikistan",
          "Uganda",
          "Namibia",
          "Ghana",
          "South Sudan",
          "Bermuda",
          "European Union",
          "Maldives",
          "Grenada",
          "Trinidad and Tobago",
          "Bangladesh",
          "Saint Helena",
          "Tuvalu",
          "New Zealand",
          "Hungary",
          "Singapore",
          "Low income",
          "Serbia",
          "Iraq",
          "Sweden",
          "Gibraltar",
          "El Salvador",
          "Guadeloupe",
          "Kyrgyzstan",
          "Iceland",
          "Liechtenstein",
          "Afghanistan",
          "Laos",
          "Burkina Faso",
          "Russia",
          "Martinique",
          "Timor",
          "San Marino",
          "Mozambique",
          "Solomon Islands",
          "United States Virgin Islands",
          "United Kingdom",
          "Upper middle income",
          "Europe",
          "Congo",
          "Italy",
          "Uzbekistan",
          "Vatican",
          "Micronesia (country)",
          "Zimbabwe",
          "Nigeria",
          "Somalia",
          "Algeria",
          "Kosovo",
          "Benin",
          "Brunei",
          "Montenegro",
          "Asia",
          "Mauritius",
          "Saint Pierre and Miquelon",
          "Wallis and Futuna",
          "Anguilla",
          "Romania",
          "Denmark",
          "Saint Lucia",
          "Cayman Islands",
          "South Korea",
          "Luxembourg",
          "Botswana",
          "Mali",
          "Japan",
          "Albania",
          "Haiti",
          "Lesotho",
          "Faeroe Islands",
          "Kenya",
          "Zambia",
          "North Macedonia",
          "Guernsey",
          "Brazil",
          "Isle of Man",
          "Bahamas",
          "Guinea",
          "Germany",
          "France",
          "Togo",
          "Oman",
          "Pitcairn",
          "South Africa",
          "Philippines",
          "Switzerland",
          "Peru",
          "Czechia",
          "Thailand",
          "Canada",
          "Israel",
          "Belgium",
          "Bosnia and Herzegovina",
          "Mayotte",
          "Tanzania",
          "High income",
          "Aruba",
          "India",
          "Armenia",
          "Curacao",
          "Papua New Guinea",
          "Andorra",
          "Honduras",
          "Gabon",
          "Reunion",
          "Tokelau",
          "Kiribati",
          "Nauru",
          "Saint Barthelemy",
          "Palau",
          "Malaysia",
          "Chile",
          "Ukraine",
          "Portugal",
          "Seychelles",
          "Ethiopia",
          "Qatar",
          "Libya",
          "Guam",
          "Egypt",
          "Burundi",
          "Venezuela",
          "Syria",
          "Greece",
          "Sao Tome and Principe",
          "Turks and Caicos Islands",
          "Saint Kitts and Nevis",
          "Austria",
          "Colombia",
          "Poland",
          "Indonesia",
          "Estonia",
          "Moldova",
          "Bhutan",
          "Cape Verde",
          "Mauritania",
          "Sudan",
          "Myanmar",
          "Cyprus",
          "Jersey",
          "Dominican Republic",
          "Kuwait",
          "Sri Lanka",
          "Madagascar",
          "Fiji",
          "South America",
          "Bahrain",
          "Cook Islands",
          "British Virgin Islands",
          "Sierra Leone",
          "Chad",
          "Iran",
          "Mexico",
          "Belize",
          "Palestine",
          "Guyana",
          "Paraguay",
          "Eswatini",
          "Niue",
          "World",
          "French Polynesia",
          "Liberia",
          "American Samoa",
          "Netherlands",
          "New Caledonia",
          "Suriname",
          "Azerbaijan",
          "Saudi Arabia",
          "Cote d'Ivoire",
          "Malawi",
          "Senegal",
          "Comoros",
          "Antigua and Barbuda",
          "Guinea-Bissau",
          "Niger",
          "Saint Vincent and the Grenadines",
          "Democratic Republic of Congo",
          "Lower middle income",
          "Latvia",
          "French Guiana",
          "China",
          "Belarus",
          "England",
          "Hong Kong",
          "Macao",
          "North Korea",
          "Northern Cyprus",
          "Northern Ireland",
          "Scotland",
          "Taiwan",
          "Turkmenistan",
          "Wales",
          "Western Sahara"
         ],
         "legendgroup": "",
         "marker": {
          "color": [
           0,
           0,
           0,
           0,
           0,
           0,
           0,
           0,
           0,
           0,
           0,
           0,
           0,
           0,
           0,
           0,
           0,
           0,
           0,
           0,
           0,
           0,
           0,
           0,
           0,
           0,
           0,
           0,
           0,
           0,
           0,
           0,
           0,
           0,
           0,
           0,
           0,
           0,
           0,
           0,
           0,
           0,
           0,
           0,
           0,
           0,
           0,
           0,
           0,
           0,
           0,
           0,
           0,
           0,
           0,
           0,
           0,
           0,
           0,
           0,
           0,
           0,
           0,
           0,
           0,
           0,
           0,
           0,
           0,
           0,
           0,
           0,
           0,
           0,
           0,
           0,
           0,
           0,
           0,
           0,
           0,
           0,
           0,
           0,
           0,
           0,
           0,
           0,
           0,
           0,
           0,
           0,
           0,
           0,
           0,
           0,
           0,
           0,
           0,
           -1,
           0,
           0,
           0,
           0,
           0,
           0,
           0,
           0,
           0,
           0,
           0,
           0,
           0,
           0,
           -1,
           0,
           0,
           0,
           0,
           0,
           0,
           0,
           0,
           0,
           0,
           0,
           0,
           0,
           0,
           0,
           0,
           0,
           0,
           0,
           0,
           0,
           0,
           0,
           0,
           0,
           0,
           0,
           0,
           0,
           0,
           0,
           0,
           0,
           0,
           0,
           0,
           0,
           0,
           0,
           0,
           0,
           0,
           -1,
           0,
           0,
           0,
           0,
           0,
           0,
           0,
           0,
           0,
           0,
           0,
           0,
           0,
           0,
           0,
           0,
           0,
           0,
           0,
           0,
           0,
           0,
           0,
           0,
           0,
           0,
           0,
           0,
           0,
           0,
           0,
           0,
           0,
           0,
           0,
           0,
           0,
           0,
           0,
           0,
           0,
           0,
           0,
           0,
           0,
           0,
           0,
           0,
           0,
           0,
           0,
           0,
           0,
           0,
           0,
           0,
           0,
           0,
           0,
           0,
           0,
           0,
           0,
           -1,
           0,
           0,
           0,
           0,
           0,
           0,
           0,
           0,
           0,
           0,
           0,
           0,
           0,
           0,
           0,
           0,
           0,
           -1,
           0,
           0,
           -1,
           0,
           0,
           0,
           0,
           0,
           0,
           0,
           0,
           0,
           0,
           0,
           0
          ],
          "coloraxis": "coloraxis",
          "opacity": 0.7,
          "size": 10,
          "symbol": "circle"
         },
         "mode": "markers",
         "name": "",
         "orientation": "v",
         "showlegend": false,
         "type": "scatter",
         "x": [
          "1 million",
          "1 million",
          "1 million",
          "1 million",
          "1,403",
          "1,923",
          "1.1 million",
          "1.1 million",
          "1.1 million",
          "1.1 million",
          "1.2 million",
          "1.2 million",
          "1.2 million",
          "1.2 million",
          "1.2 million",
          "1.3 million",
          "1.3 million",
          "1.3 million",
          "1.3 million",
          "1.3 million",
          "1.5 million",
          "1.5 million",
          "1.5 million",
          "1.6 million",
          "1.7 million",
          "1.7 million",
          "1.8 million",
          "1.9 million",
          "10 million",
          "10,189",
          "103.1 million",
          "105,384",
          "107,466",
          "11,030",
          "11,885",
          "11,945",
          "11,971",
          "11.2 million",
          "11.5 million",
          "118,441",
          "12,014",
          "12,293",
          "12,626",
          "123.8 million",
          "124,895",
          "13,814",
          "13.1 million",
          "13.8 million",
          "13.9 million",
          "133,194",
          "138,731",
          "15,367",
          "15,690",
          "15,691",
          "15,760",
          "154,740",
          "16,081",
          "16,737",
          "16,742",
          "16,814",
          "17 million",
          "17,130",
          "17,786",
          "170,552",
          "171,222",
          "171,619",
          "18,368",
          "18,860",
          "183.8 million",
          "186,241",
          "19,693",
          "191,350",
          "2 million",
          "2,166",
          "2,779",
          "2.2 million",
          "2.2 million",
          "2.3 million",
          "2.3 million",
          "2.5 million",
          "2.5 million",
          "2.7 million",
          "20,550",
          "201,785",
          "202,482",
          "206,876",
          "209,191",
          "21,462",
          "214,112",
          "218,069",
          "22,056",
          "22.8 million",
          "229,784",
          "23,428",
          "23,961",
          "233,334",
          "24,575",
          "24,907",
          "24.6 million",
          "243.5 million",
          "248.9 million",
          "25,189",
          "25.8 million",
          "252,725",
          "26",
          "26,049",
          "264,639",
          "266,675",
          "27,334",
          "271,673",
          "273,820",
          "28,014",
          "285,740",
          "289,292",
          "296.4 million",
          "299,776",
          "3,426",
          "3,427",
          "3,904",
          "3.4 million",
          "3.4 million",
          "30,052",
          "31,472",
          "31.1 million",
          "319,959",
          "329,847",
          "33,144",
          "33.6 million",
          "334,090",
          "34,226",
          "34,490",
          "34,658",
          "343,035",
          "343,881",
          "348,057",
          "35,326",
          "37.4 million",
          "38,008",
          "38,084",
          "38,462",
          "38.4 million",
          "38.9 million",
          "39,477",
          "399,449",
          "4",
          "4.1 million",
          "4.1 million",
          "4.4 million",
          "4.5 million",
          "4.6 million",
          "4.7 million",
          "4.7 million",
          "4.8 million",
          "4.8 million",
          "402,804",
          "42,027",
          "42,973",
          "420.2 million",
          "44,114",
          "44.9 million",
          "448,980",
          "45,798",
          "46,838",
          "47,945",
          "472,533",
          "48,981",
          "494,595",
          "5",
          "5,025",
          "5,393",
          "5,485",
          "5,999",
          "5.1 million",
          "5.3 million",
          "5.5 million",
          "5.6 million",
          "50,937",
          "500,815",
          "506,323",
          "507,250",
          "51,110",
          "515,970",
          "53,731",
          "552,555",
          "57,423",
          "6 million",
          "6,562",
          "6,565",
          "6,598",
          "6.1 million",
          "6.4 million",
          "6.5 million",
          "6.8 million",
          "617,931",
          "619,888",
          "62,663",
          "63,370",
          "63,617",
          "63,993",
          "634,471",
          "658,450",
          "66,391",
          "661,008",
          "665,741",
          "672,139",
          "68,211",
          "68,918",
          "68.4 million",
          "696,614",
          "7,059",
          "7,305",
          "7,762",
          "7,820",
          "7.6 million",
          "7.6 million",
          "70,782",
          "703,228",
          "73,133",
          "735,759",
          "74,627",
          "747",
          "764.5 million",
          "78,417",
          "8,090",
          "8,329",
          "8.6 million",
          "80,057",
          "82,495",
          "831,110",
          "839,347",
          "88,321",
          "88,625",
          "88,993",
          "9,105",
          "9,106",
          "9,350",
          "9,513",
          "9,611",
          "95,944",
          "97.3 million",
          "977,533",
          "98,041",
          "99.2 million",
          "994,037",
          "Data Not Observed",
          "Data Not Observed",
          "Data Not Observed",
          "Data Not Observed",
          "Data Not Observed",
          "Data Not Observed",
          "Data Not Observed",
          "Data Not Observed",
          "Data Not Observed",
          "Data Not Observed",
          "Data Not Observed"
         ],
         "xaxis": "x",
         "y": [
          "12,027",
          "2,136",
          "7,625",
          "8,618",
          "8",
          "Data Not Observed",
          "2,349",
          "36,019",
          "5,884",
          "8,530",
          "10,897",
          "20,189",
          "22,376",
          "29,378",
          "9,339",
          "16,297",
          "18,155",
          "38,316",
          "9,288",
          "9,663",
          "19,072",
          "5,396",
          "9,215",
          "30,656",
          "14,122",
          "8,824",
          "17,049",
          "21,167",
          "130,472",
          "103",
          "1.1 million",
          "1,934",
          "588",
          "92",
          "41",
          "2,159",
          "21",
          "20,119",
          "43,187",
          "835",
          "14",
          "46",
          "372",
          "1.6 million",
          "1,971",
          "41",
          "258,877",
          "120,715",
          "26,173",
          "1,468",
          "3,056",
          "113",
          "189",
          "245",
          "74",
          "3,536",
          "17",
          "31",
          "67",
          "12",
          "101,419",
          "183",
          "125",
          "3,632",
          "4,090",
          "1,462",
          "138",
          "165",
          "1.2 million",
          "313",
          "238",
          "4,387",
          "29,446",
          "Data Not Observed",
          "Data Not Observed",
          "2,716",
          "48,754",
          "1,722",
          "47,906",
          "18,014",
          "25,375",
          "23,971",
          "113",
          "4,230",
          "1,017",
          "2,991",
          "260",
          "87",
          "7,888",
          "671",
          "396",
          "398,142",
          "1,097",
          "138",
          "123",
          "2,242",
          "153",
          "130",
          "223,396",
          "2.7 million",
          "2.1 million",
          "389",
          "189,582",
          "1,637",
          "Data Not Observed",
          "64",
          "5,685",
          "3,155",
          "1,361",
          "6,881",
          "3,206",
          "163",
          "155",
          "2,808",
          "1.6 million",
          "1,044",
          "2",
          "7",
          "12",
          "68,001",
          "8,520",
          "409",
          "37",
          "34,427",
          "1,232",
          "2,796",
          "743",
          "74,376",
          "3,604",
          "860",
          "706",
          "28",
          "5,688",
          "4,058",
          "9,672",
          "67",
          "701,215",
          "116",
          "844",
          "467",
          "172,635",
          "162,603",
          "290",
          "4,628",
          "Data Not Observed",
          "102,595",
          "66,444",
          "13,988",
          "220,073",
          "42,757",
          "33,947",
          "52,121",
          "12,477",
          "34,188",
          "16,336",
          "187",
          "846",
          "2.9 million",
          "287",
          "531,369",
          "8,746",
          "301",
          "670",
          "159",
          "11,112",
          "306",
          "921",
          "Data Not Observed",
          "24",
          "1",
          "5",
          "9",
          "37,011",
          "64,497",
          "112,023",
          "26,550",
          "172",
          "7,574",
          "690",
          "6,437",
          "415",
          "24,826",
          "15",
          "5,856",
          "3,163",
          "36,711",
          "80",
          "38",
          "46",
          "22,318",
          "142,706",
          "119,531",
          "161,190",
          "3,001",
          "12,086",
          "21",
          "413",
          "997",
          "5,046",
          "19,490",
          "1,354",
          "161",
          "4,384",
          "2,570",
          "16,839",
          "1,424",
          "883",
          "1.4 million",
          "1,536",
          "2",
          "64",
          "126",
          "194",
          "146,005",
          "333,764",
          "688",
          "5,708",
          "1,298",
          "19,880",
          "1,425",
          "Data Not Observed",
          "6.9 million",
          "649",
          "294",
          "34",
          "22,992",
          "314",
          "1,404",
          "10,226",
          "9,641",
          "834",
          "2,686",
          "1,971",
          "161",
          "146",
          "176",
          "315",
          "124",
          "1,464",
          "1.3 million",
          "6,341",
          "413",
          "120,923",
          "7,118",
          "Data Not Observed",
          "Data Not Observed",
          "Data Not Observed",
          "Data Not Observed",
          "Data Not Observed",
          "Data Not Observed",
          "Data Not Observed",
          "Data Not Observed",
          "Data Not Observed",
          "Data Not Observed",
          "Data Not Observed"
         ],
         "yaxis": "y"
        }
       ],
       "layout": {
        "coloraxis": {
         "colorbar": {
          "title": {
           "text": "Cluster"
          }
         },
         "colorscale": [
          [
           0,
           "#0d0887"
          ],
          [
           0.1111111111111111,
           "#46039f"
          ],
          [
           0.2222222222222222,
           "#7201a8"
          ],
          [
           0.3333333333333333,
           "#9c179e"
          ],
          [
           0.4444444444444444,
           "#bd3786"
          ],
          [
           0.5555555555555556,
           "#d8576b"
          ],
          [
           0.6666666666666666,
           "#ed7953"
          ],
          [
           0.7777777777777778,
           "#fb9f3a"
          ],
          [
           0.8888888888888888,
           "#fdca26"
          ],
          [
           1,
           "#f0f921"
          ]
         ]
        },
        "legend": {
         "tracegroupgap": 0
        },
        "template": {
         "data": {
          "bar": [
           {
            "error_x": {
             "color": "#2a3f5f"
            },
            "error_y": {
             "color": "#2a3f5f"
            },
            "marker": {
             "line": {
              "color": "#E5ECF6",
              "width": 0.5
             },
             "pattern": {
              "fillmode": "overlay",
              "size": 10,
              "solidity": 0.2
             }
            },
            "type": "bar"
           }
          ],
          "barpolar": [
           {
            "marker": {
             "line": {
              "color": "#E5ECF6",
              "width": 0.5
             },
             "pattern": {
              "fillmode": "overlay",
              "size": 10,
              "solidity": 0.2
             }
            },
            "type": "barpolar"
           }
          ],
          "carpet": [
           {
            "aaxis": {
             "endlinecolor": "#2a3f5f",
             "gridcolor": "white",
             "linecolor": "white",
             "minorgridcolor": "white",
             "startlinecolor": "#2a3f5f"
            },
            "baxis": {
             "endlinecolor": "#2a3f5f",
             "gridcolor": "white",
             "linecolor": "white",
             "minorgridcolor": "white",
             "startlinecolor": "#2a3f5f"
            },
            "type": "carpet"
           }
          ],
          "choropleth": [
           {
            "colorbar": {
             "outlinewidth": 0,
             "ticks": ""
            },
            "type": "choropleth"
           }
          ],
          "contour": [
           {
            "colorbar": {
             "outlinewidth": 0,
             "ticks": ""
            },
            "colorscale": [
             [
              0,
              "#0d0887"
             ],
             [
              0.1111111111111111,
              "#46039f"
             ],
             [
              0.2222222222222222,
              "#7201a8"
             ],
             [
              0.3333333333333333,
              "#9c179e"
             ],
             [
              0.4444444444444444,
              "#bd3786"
             ],
             [
              0.5555555555555556,
              "#d8576b"
             ],
             [
              0.6666666666666666,
              "#ed7953"
             ],
             [
              0.7777777777777778,
              "#fb9f3a"
             ],
             [
              0.8888888888888888,
              "#fdca26"
             ],
             [
              1,
              "#f0f921"
             ]
            ],
            "type": "contour"
           }
          ],
          "contourcarpet": [
           {
            "colorbar": {
             "outlinewidth": 0,
             "ticks": ""
            },
            "type": "contourcarpet"
           }
          ],
          "heatmap": [
           {
            "colorbar": {
             "outlinewidth": 0,
             "ticks": ""
            },
            "colorscale": [
             [
              0,
              "#0d0887"
             ],
             [
              0.1111111111111111,
              "#46039f"
             ],
             [
              0.2222222222222222,
              "#7201a8"
             ],
             [
              0.3333333333333333,
              "#9c179e"
             ],
             [
              0.4444444444444444,
              "#bd3786"
             ],
             [
              0.5555555555555556,
              "#d8576b"
             ],
             [
              0.6666666666666666,
              "#ed7953"
             ],
             [
              0.7777777777777778,
              "#fb9f3a"
             ],
             [
              0.8888888888888888,
              "#fdca26"
             ],
             [
              1,
              "#f0f921"
             ]
            ],
            "type": "heatmap"
           }
          ],
          "heatmapgl": [
           {
            "colorbar": {
             "outlinewidth": 0,
             "ticks": ""
            },
            "colorscale": [
             [
              0,
              "#0d0887"
             ],
             [
              0.1111111111111111,
              "#46039f"
             ],
             [
              0.2222222222222222,
              "#7201a8"
             ],
             [
              0.3333333333333333,
              "#9c179e"
             ],
             [
              0.4444444444444444,
              "#bd3786"
             ],
             [
              0.5555555555555556,
              "#d8576b"
             ],
             [
              0.6666666666666666,
              "#ed7953"
             ],
             [
              0.7777777777777778,
              "#fb9f3a"
             ],
             [
              0.8888888888888888,
              "#fdca26"
             ],
             [
              1,
              "#f0f921"
             ]
            ],
            "type": "heatmapgl"
           }
          ],
          "histogram": [
           {
            "marker": {
             "pattern": {
              "fillmode": "overlay",
              "size": 10,
              "solidity": 0.2
             }
            },
            "type": "histogram"
           }
          ],
          "histogram2d": [
           {
            "colorbar": {
             "outlinewidth": 0,
             "ticks": ""
            },
            "colorscale": [
             [
              0,
              "#0d0887"
             ],
             [
              0.1111111111111111,
              "#46039f"
             ],
             [
              0.2222222222222222,
              "#7201a8"
             ],
             [
              0.3333333333333333,
              "#9c179e"
             ],
             [
              0.4444444444444444,
              "#bd3786"
             ],
             [
              0.5555555555555556,
              "#d8576b"
             ],
             [
              0.6666666666666666,
              "#ed7953"
             ],
             [
              0.7777777777777778,
              "#fb9f3a"
             ],
             [
              0.8888888888888888,
              "#fdca26"
             ],
             [
              1,
              "#f0f921"
             ]
            ],
            "type": "histogram2d"
           }
          ],
          "histogram2dcontour": [
           {
            "colorbar": {
             "outlinewidth": 0,
             "ticks": ""
            },
            "colorscale": [
             [
              0,
              "#0d0887"
             ],
             [
              0.1111111111111111,
              "#46039f"
             ],
             [
              0.2222222222222222,
              "#7201a8"
             ],
             [
              0.3333333333333333,
              "#9c179e"
             ],
             [
              0.4444444444444444,
              "#bd3786"
             ],
             [
              0.5555555555555556,
              "#d8576b"
             ],
             [
              0.6666666666666666,
              "#ed7953"
             ],
             [
              0.7777777777777778,
              "#fb9f3a"
             ],
             [
              0.8888888888888888,
              "#fdca26"
             ],
             [
              1,
              "#f0f921"
             ]
            ],
            "type": "histogram2dcontour"
           }
          ],
          "mesh3d": [
           {
            "colorbar": {
             "outlinewidth": 0,
             "ticks": ""
            },
            "type": "mesh3d"
           }
          ],
          "parcoords": [
           {
            "line": {
             "colorbar": {
              "outlinewidth": 0,
              "ticks": ""
             }
            },
            "type": "parcoords"
           }
          ],
          "pie": [
           {
            "automargin": true,
            "type": "pie"
           }
          ],
          "scatter": [
           {
            "fillpattern": {
             "fillmode": "overlay",
             "size": 10,
             "solidity": 0.2
            },
            "type": "scatter"
           }
          ],
          "scatter3d": [
           {
            "line": {
             "colorbar": {
              "outlinewidth": 0,
              "ticks": ""
             }
            },
            "marker": {
             "colorbar": {
              "outlinewidth": 0,
              "ticks": ""
             }
            },
            "type": "scatter3d"
           }
          ],
          "scattercarpet": [
           {
            "marker": {
             "colorbar": {
              "outlinewidth": 0,
              "ticks": ""
             }
            },
            "type": "scattercarpet"
           }
          ],
          "scattergeo": [
           {
            "marker": {
             "colorbar": {
              "outlinewidth": 0,
              "ticks": ""
             }
            },
            "type": "scattergeo"
           }
          ],
          "scattergl": [
           {
            "marker": {
             "colorbar": {
              "outlinewidth": 0,
              "ticks": ""
             }
            },
            "type": "scattergl"
           }
          ],
          "scattermapbox": [
           {
            "marker": {
             "colorbar": {
              "outlinewidth": 0,
              "ticks": ""
             }
            },
            "type": "scattermapbox"
           }
          ],
          "scatterpolar": [
           {
            "marker": {
             "colorbar": {
              "outlinewidth": 0,
              "ticks": ""
             }
            },
            "type": "scatterpolar"
           }
          ],
          "scatterpolargl": [
           {
            "marker": {
             "colorbar": {
              "outlinewidth": 0,
              "ticks": ""
             }
            },
            "type": "scatterpolargl"
           }
          ],
          "scatterternary": [
           {
            "marker": {
             "colorbar": {
              "outlinewidth": 0,
              "ticks": ""
             }
            },
            "type": "scatterternary"
           }
          ],
          "surface": [
           {
            "colorbar": {
             "outlinewidth": 0,
             "ticks": ""
            },
            "colorscale": [
             [
              0,
              "#0d0887"
             ],
             [
              0.1111111111111111,
              "#46039f"
             ],
             [
              0.2222222222222222,
              "#7201a8"
             ],
             [
              0.3333333333333333,
              "#9c179e"
             ],
             [
              0.4444444444444444,
              "#bd3786"
             ],
             [
              0.5555555555555556,
              "#d8576b"
             ],
             [
              0.6666666666666666,
              "#ed7953"
             ],
             [
              0.7777777777777778,
              "#fb9f3a"
             ],
             [
              0.8888888888888888,
              "#fdca26"
             ],
             [
              1,
              "#f0f921"
             ]
            ],
            "type": "surface"
           }
          ],
          "table": [
           {
            "cells": {
             "fill": {
              "color": "#EBF0F8"
             },
             "line": {
              "color": "white"
             }
            },
            "header": {
             "fill": {
              "color": "#C8D4E3"
             },
             "line": {
              "color": "white"
             }
            },
            "type": "table"
           }
          ]
         },
         "layout": {
          "annotationdefaults": {
           "arrowcolor": "#2a3f5f",
           "arrowhead": 0,
           "arrowwidth": 1
          },
          "autotypenumbers": "strict",
          "coloraxis": {
           "colorbar": {
            "outlinewidth": 0,
            "ticks": ""
           }
          },
          "colorscale": {
           "diverging": [
            [
             0,
             "#8e0152"
            ],
            [
             0.1,
             "#c51b7d"
            ],
            [
             0.2,
             "#de77ae"
            ],
            [
             0.3,
             "#f1b6da"
            ],
            [
             0.4,
             "#fde0ef"
            ],
            [
             0.5,
             "#f7f7f7"
            ],
            [
             0.6,
             "#e6f5d0"
            ],
            [
             0.7,
             "#b8e186"
            ],
            [
             0.8,
             "#7fbc41"
            ],
            [
             0.9,
             "#4d9221"
            ],
            [
             1,
             "#276419"
            ]
           ],
           "sequential": [
            [
             0,
             "#0d0887"
            ],
            [
             0.1111111111111111,
             "#46039f"
            ],
            [
             0.2222222222222222,
             "#7201a8"
            ],
            [
             0.3333333333333333,
             "#9c179e"
            ],
            [
             0.4444444444444444,
             "#bd3786"
            ],
            [
             0.5555555555555556,
             "#d8576b"
            ],
            [
             0.6666666666666666,
             "#ed7953"
            ],
            [
             0.7777777777777778,
             "#fb9f3a"
            ],
            [
             0.8888888888888888,
             "#fdca26"
            ],
            [
             1,
             "#f0f921"
            ]
           ],
           "sequentialminus": [
            [
             0,
             "#0d0887"
            ],
            [
             0.1111111111111111,
             "#46039f"
            ],
            [
             0.2222222222222222,
             "#7201a8"
            ],
            [
             0.3333333333333333,
             "#9c179e"
            ],
            [
             0.4444444444444444,
             "#bd3786"
            ],
            [
             0.5555555555555556,
             "#d8576b"
            ],
            [
             0.6666666666666666,
             "#ed7953"
            ],
            [
             0.7777777777777778,
             "#fb9f3a"
            ],
            [
             0.8888888888888888,
             "#fdca26"
            ],
            [
             1,
             "#f0f921"
            ]
           ]
          },
          "colorway": [
           "#636efa",
           "#EF553B",
           "#00cc96",
           "#ab63fa",
           "#FFA15A",
           "#19d3f3",
           "#FF6692",
           "#B6E880",
           "#FF97FF",
           "#FECB52"
          ],
          "font": {
           "color": "#2a3f5f"
          },
          "geo": {
           "bgcolor": "white",
           "lakecolor": "white",
           "landcolor": "#E5ECF6",
           "showlakes": true,
           "showland": true,
           "subunitcolor": "white"
          },
          "hoverlabel": {
           "align": "left"
          },
          "hovermode": "closest",
          "mapbox": {
           "style": "light"
          },
          "paper_bgcolor": "white",
          "plot_bgcolor": "#E5ECF6",
          "polar": {
           "angularaxis": {
            "gridcolor": "white",
            "linecolor": "white",
            "ticks": ""
           },
           "bgcolor": "#E5ECF6",
           "radialaxis": {
            "gridcolor": "white",
            "linecolor": "white",
            "ticks": ""
           }
          },
          "scene": {
           "xaxis": {
            "backgroundcolor": "#E5ECF6",
            "gridcolor": "white",
            "gridwidth": 2,
            "linecolor": "white",
            "showbackground": true,
            "ticks": "",
            "zerolinecolor": "white"
           },
           "yaxis": {
            "backgroundcolor": "#E5ECF6",
            "gridcolor": "white",
            "gridwidth": 2,
            "linecolor": "white",
            "showbackground": true,
            "ticks": "",
            "zerolinecolor": "white"
           },
           "zaxis": {
            "backgroundcolor": "#E5ECF6",
            "gridcolor": "white",
            "gridwidth": 2,
            "linecolor": "white",
            "showbackground": true,
            "ticks": "",
            "zerolinecolor": "white"
           }
          },
          "shapedefaults": {
           "line": {
            "color": "#2a3f5f"
           }
          },
          "ternary": {
           "aaxis": {
            "gridcolor": "white",
            "linecolor": "white",
            "ticks": ""
           },
           "baxis": {
            "gridcolor": "white",
            "linecolor": "white",
            "ticks": ""
           },
           "bgcolor": "#E5ECF6",
           "caxis": {
            "gridcolor": "white",
            "linecolor": "white",
            "ticks": ""
           }
          },
          "title": {
           "x": 0.05
          },
          "xaxis": {
           "automargin": true,
           "gridcolor": "white",
           "linecolor": "white",
           "ticks": "",
           "title": {
            "standoff": 15
           },
           "zerolinecolor": "white",
           "zerolinewidth": 2
          },
          "yaxis": {
           "automargin": true,
           "gridcolor": "white",
           "linecolor": "white",
           "ticks": "",
           "title": {
            "standoff": 15
           },
           "zerolinecolor": "white",
           "zerolinewidth": 2
          }
         }
        },
        "title": {
         "text": "COVID-19 Clusters by Country (Dataset 1)",
         "x": 0.5,
         "xanchor": "center",
         "y": 0.95,
         "yanchor": "top"
        },
        "xaxis": {
         "anchor": "y",
         "domain": [
          0,
          1
         ],
         "title": {
          "text": "Total Confirmed COVID-19 Cases"
         }
        },
        "yaxis": {
         "anchor": "x",
         "domain": [
          0,
          1
         ],
         "title": {
          "text": "Total Confirmed COVID-19 Deaths"
         }
        }
       }
      }
     },
     "metadata": {},
     "output_type": "display_data"
    }
   ],
   "source": [
    "import plotly.express as px\n",
    "\n",
    "# We need to select a wide range of colors to represent the number of clusters\n",
    "\n",
    "colors = ['#1f77b4', '#ff7f0e', '#2ca02c', '#d62728', '#9467bd', \n",
    "          '#8c564b', '#e377c2', '#7f7f7f', '#bcbd22', '#17becf', \n",
    "          '#f57c00', '#3f51b5', '#008080', '#006400', '#ffd700', \n",
    "          '#1e90ff', '#9932cc', '#ff1493', '#dc143c']\n",
    "\n",
    "\n",
    "sorted_data = dataset1.sort_values(by=['Cumulative Total of Confirmed Covid-19 Cases', 'Cumulative Total of Confirmed Covid-19 Deaths'], ascending=True)\n",
    "\n",
    "# Adding a new column of data for clusters\n",
    "\n",
    "sorted_data['ClusterCount'] = sorted_data.groupby('Cluster')['Cluster'].transform('count')\n",
    "\n",
    "# Make the scatter plot, x is number of cases, y is number of deaths\n",
    "\n",
    "fig = px.scatter(sorted_data, \n",
    "                 x='Cumulative Total of Confirmed Covid-19 Cases', \n",
    "                 y='Cumulative Total of Confirmed Covid-19 Deaths', \n",
    "                 color='Cluster', \n",
    "                 title='COVID-19 Clusters by Country', \n",
    "                 color_discrete_sequence=colors,\n",
    "                 hover_name='Country or Location')\n",
    "\n",
    "\n",
    "# Fixing up and resizing the scatter plot\n",
    "\n",
    "fig.update_layout(\n",
    "    title={\n",
    "        'text': \"COVID-19 Clusters by Country (Dataset 1)\",\n",
    "        'x': 0.5,\n",
    "        'y': 0.95,\n",
    "        'xanchor': 'center',\n",
    "        'yanchor': 'top'},\n",
    "    xaxis_title='Total Confirmed COVID-19 Cases', \n",
    "    yaxis_title='Total Confirmed COVID-19 Deaths',\n",
    "    title_x=0.5)\n",
    "\n",
    "fig.update_traces(marker_size=10, marker_opacity=0.7)\n",
    "fig.write_html(\"covid19original_DS_cluster.html\")\n",
    "\n",
    "fig.show()\n",
    "\n",
    "\n",
    "\n"
   ]
  },
  {
   "cell_type": "markdown",
   "metadata": {},
   "source": [
    "Now we can do the same for dataset 2 which has our prediction algorithms implemented"
   ]
  },
  {
   "cell_type": "code",
   "execution_count": 54,
   "metadata": {},
   "outputs": [
    {
     "data": {
      "application/vnd.plotly.v1+json": {
       "config": {
        "plotlyServerURL": "https://plot.ly"
       },
       "data": [
        {
         "hovertemplate": "<b>%{hovertext}</b><br><br>Cumulative Total of Confirmed Covid-19 Cases=%{x}<br>Cumulative Total of Confirmed Covid-19 Deaths=%{y}<br>Cluster=%{marker.color}<extra></extra>",
         "hovertext": [
          "Nepal",
          "Mongolia",
          "Uruguay",
          "Panama",
          "Montserrat",
          "Falkland Islands",
          "Wales",
          "United Arab Emirates",
          "Ecuador",
          "Puerto Rico",
          "Cuba",
          "Lebanon",
          "Guatemala",
          "Bolivia",
          "Tunisia",
          "Costa Rica",
          "Morocco",
          "Croatia",
          "Bulgaria",
          "Slovenia",
          "Lithuania",
          "Scotland",
          "Kazakhstan",
          "Norway",
          "Finland",
          "Pakistan",
          "Turkmenistan",
          "Jordan",
          "Ireland",
          "Georgia",
          "Slovakia",
          "Argentina",
          "Eritrea",
          "United States",
          "Angola",
          "Barbados",
          "Sint Maarten (Dutch part)",
          "Bonaire Sint Eustatius and Saba",
          "Yemen",
          "Greenland",
          "Australia",
          "Vietnam",
          "Malta",
          "Vanuatu",
          "Saint Martin (French part)",
          "Gambia",
          "North America",
          "Cameroon",
          "Northern Mariana Islands",
          "Africa",
          "Pitcairn",
          "Vatican",
          "Spain",
          "Oceania",
          "Rwanda",
          "Cambodia",
          "Western Sahara",
          "Central African Republic",
          "Djibouti",
          "Nicaragua",
          "Dominica",
          "Jamaica",
          "Northern Cyprus",
          "Marshall Islands",
          "Samoa",
          "Monaco",
          "Tonga",
          "Turkey",
          "Equatorial Guinea",
          "Tajikistan",
          "Uganda",
          "Namibia",
          "Ghana",
          "South Sudan",
          "Bermuda",
          "European Union",
          "Maldives",
          "Grenada",
          "Trinidad and Tobago",
          "Bangladesh",
          "Saint Helena",
          "Niue",
          "Tokelau",
          "Tuvalu",
          "New Zealand",
          "Hungary",
          "Singapore",
          "Low income",
          "Hong Kong",
          "Serbia",
          "Iraq",
          "Sweden",
          "Gibraltar",
          "Macao",
          "El Salvador",
          "Guadeloupe",
          "Kyrgyzstan",
          "Iceland",
          "Liechtenstein",
          "Afghanistan",
          "Laos",
          "Burkina Faso",
          "Russia",
          "Martinique",
          "Timor",
          "San Marino",
          "Mozambique",
          "Solomon Islands",
          "United States Virgin Islands",
          "United Kingdom",
          "Upper middle income",
          "Europe",
          "Congo",
          "Italy",
          "Uzbekistan",
          "Micronesia (country)",
          "Zimbabwe",
          "Nigeria",
          "Somalia",
          "England",
          "Algeria",
          "Kosovo",
          "Benin",
          "North Korea",
          "Brunei",
          "Montenegro",
          "Asia",
          "Mauritius",
          "Saint Pierre and Miquelon",
          "Wallis and Futuna",
          "Anguilla",
          "Taiwan",
          "Romania",
          "Denmark",
          "Saint Lucia",
          "Cayman Islands",
          "South Korea",
          "Luxembourg",
          "Botswana",
          "Mali",
          "Japan",
          "Albania",
          "Haiti",
          "Lesotho",
          "Faeroe Islands",
          "Kenya",
          "Zambia",
          "North Macedonia",
          "Guernsey",
          "Brazil",
          "Isle of Man",
          "Bahamas",
          "Guinea",
          "Germany",
          "France",
          "Togo",
          "Oman",
          "South Africa",
          "Philippines",
          "Switzerland",
          "Peru",
          "Czechia",
          "Thailand",
          "Canada",
          "Israel",
          "Belgium",
          "Bosnia and Herzegovina",
          "Mayotte",
          "Tanzania",
          "High income",
          "Aruba",
          "India",
          "Armenia",
          "Curacao",
          "Papua New Guinea",
          "Andorra",
          "Honduras",
          "Gabon",
          "Reunion",
          "Kiribati",
          "Nauru",
          "Saint Barthelemy",
          "Palau",
          "Malaysia",
          "Chile",
          "Ukraine",
          "Portugal",
          "Seychelles",
          "Ethiopia",
          "Qatar",
          "Libya",
          "Guam",
          "Egypt",
          "Burundi",
          "Venezuela",
          "Syria",
          "Greece",
          "Sao Tome and Principe",
          "Turks and Caicos Islands",
          "Saint Kitts and Nevis",
          "Austria",
          "Colombia",
          "Poland",
          "Indonesia",
          "Estonia",
          "Moldova",
          "Bhutan",
          "Cape Verde",
          "Mauritania",
          "Sudan",
          "Myanmar",
          "Cyprus",
          "Jersey",
          "Dominican Republic",
          "Kuwait",
          "Sri Lanka",
          "Madagascar",
          "Fiji",
          "South America",
          "Bahrain",
          "Cook Islands",
          "British Virgin Islands",
          "Sierra Leone",
          "Chad",
          "Iran",
          "Mexico",
          "Belize",
          "Palestine",
          "Northern Ireland",
          "Guyana",
          "Paraguay",
          "Eswatini",
          "World",
          "French Polynesia",
          "Liberia",
          "American Samoa",
          "Netherlands",
          "New Caledonia",
          "Suriname",
          "Azerbaijan",
          "Saudi Arabia",
          "Cote d'Ivoire",
          "Malawi",
          "Senegal",
          "Comoros",
          "Antigua and Barbuda",
          "Guinea-Bissau",
          "Niger",
          "Saint Vincent and the Grenadines",
          "Democratic Republic of Congo",
          "Lower middle income",
          "Latvia",
          "French Guiana",
          "China",
          "Belarus"
         ],
         "legendgroup": "",
         "marker": {
          "color": [
           0,
           0,
           0,
           0,
           0,
           0,
           0,
           0,
           0,
           0,
           0,
           0,
           0,
           0,
           0,
           0,
           0,
           0,
           0,
           0,
           0,
           0,
           0,
           0,
           0,
           0,
           0,
           0,
           0,
           0,
           0,
           0,
           0,
           0,
           0,
           0,
           0,
           0,
           0,
           0,
           0,
           0,
           0,
           0,
           0,
           0,
           0,
           0,
           0,
           0,
           0,
           0,
           0,
           0,
           0,
           0,
           0,
           0,
           0,
           0,
           0,
           0,
           0,
           0,
           0,
           0,
           0,
           0,
           0,
           0,
           0,
           0,
           0,
           0,
           0,
           0,
           0,
           0,
           0,
           0,
           0,
           0,
           0,
           0,
           0,
           0,
           0,
           0,
           0,
           0,
           0,
           0,
           0,
           0,
           0,
           0,
           0,
           0,
           0,
           0,
           0,
           0,
           0,
           0,
           0,
           0,
           0,
           0,
           0,
           0,
           -1,
           0,
           0,
           0,
           0,
           0,
           0,
           0,
           0,
           0,
           0,
           0,
           0,
           0,
           0,
           0,
           -1,
           0,
           0,
           0,
           0,
           0,
           0,
           0,
           0,
           0,
           0,
           0,
           0,
           0,
           0,
           0,
           0,
           0,
           0,
           0,
           0,
           0,
           0,
           0,
           0,
           0,
           0,
           0,
           0,
           0,
           0,
           0,
           0,
           0,
           0,
           0,
           0,
           0,
           0,
           0,
           0,
           0,
           0,
           -1,
           0,
           -1,
           0,
           0,
           0,
           0,
           0,
           0,
           0,
           0,
           0,
           0,
           0,
           0,
           0,
           0,
           0,
           0,
           0,
           0,
           0,
           0,
           0,
           0,
           0,
           0,
           0,
           0,
           0,
           0,
           0,
           0,
           0,
           0,
           0,
           0,
           0,
           0,
           0,
           0,
           0,
           0,
           0,
           0,
           0,
           0,
           0,
           0,
           0,
           0,
           0,
           0,
           0,
           0,
           0,
           0,
           0,
           0,
           0,
           0,
           0,
           0,
           -1,
           0,
           0,
           0,
           0,
           0,
           0,
           0,
           0,
           0,
           0,
           0,
           0,
           0,
           0,
           0,
           0,
           0,
           -1,
           0,
           0,
           -1,
           0
          ],
          "coloraxis": "coloraxis",
          "opacity": 0.7,
          "size": 10,
          "symbol": "circle"
         },
         "mode": "markers",
         "name": "",
         "orientation": "v",
         "showlegend": false,
         "type": "scatter",
         "x": [
          "1 million",
          "1 million",
          "1 million",
          "1 million",
          "1,403",
          "1,923",
          "1.1 million",
          "1.1 million",
          "1.1 million",
          "1.1 million",
          "1.1 million",
          "1.2 million",
          "1.2 million",
          "1.2 million",
          "1.2 million",
          "1.2 million",
          "1.3 million",
          "1.3 million",
          "1.3 million",
          "1.3 million",
          "1.3 million",
          "1.4 million",
          "1.5 million",
          "1.5 million",
          "1.5 million",
          "1.6 million",
          "1.6 million",
          "1.7 million",
          "1.7 million",
          "1.8 million",
          "1.9 million",
          "10 million",
          "10,189",
          "103.1 million",
          "105,384",
          "107,466",
          "11,030",
          "11,885",
          "11,945",
          "11,971",
          "11.2 million",
          "11.5 million",
          "118,441",
          "12,014",
          "12,293",
          "12,626",
          "123.8 million",
          "124,895",
          "13,814",
          "13.1 million",
          "13.5 million",
          "13.5 million",
          "13.8 million",
          "13.9 million",
          "133,194",
          "138,731",
          "15,047",
          "15,367",
          "15,690",
          "15,691",
          "15,760",
          "154,740",
          "158,986",
          "16,081",
          "16,737",
          "16,742",
          "16,814",
          "17 million",
          "17,130",
          "17,786",
          "170,552",
          "171,222",
          "171,619",
          "18,368",
          "18,860",
          "183.8 million",
          "186,241",
          "19,693",
          "191,350",
          "2 million",
          "2,166",
          "2,565",
          "2,565",
          "2,779",
          "2.2 million",
          "2.2 million",
          "2.3 million",
          "2.3 million",
          "2.4 million",
          "2.5 million",
          "2.5 million",
          "2.7 million",
          "20,550",
          "200,962",
          "201,785",
          "202,482",
          "206,876",
          "209,191",
          "21,462",
          "214,112",
          "218,069",
          "22,056",
          "22.8 million",
          "229,784",
          "23,428",
          "23,961",
          "233,334",
          "24,575",
          "24,907",
          "24.6 million",
          "243.5 million",
          "248.9 million",
          "25,189",
          "25.8 million",
          "252,725",
          "26,049",
          "264,639",
          "266,675",
          "27,334",
          "27.5 million",
          "271,673",
          "273,820",
          "28,014",
          "28,559",
          "285,740",
          "289,292",
          "296.4 million",
          "299,776",
          "3,426",
          "3,427",
          "3,904",
          "3.3 million",
          "3.4 million",
          "3.4 million",
          "30,052",
          "31,472",
          "31.1 million",
          "319,959",
          "329,847",
          "33,144",
          "33.6 million",
          "334,090",
          "34,226",
          "34,490",
          "34,658",
          "343,035",
          "343,881",
          "348,057",
          "35,326",
          "37.4 million",
          "38,008",
          "38,084",
          "38,462",
          "38.4 million",
          "38.9 million",
          "39,477",
          "399,449",
          "4.1 million",
          "4.1 million",
          "4.4 million",
          "4.5 million",
          "4.6 million",
          "4.7 million",
          "4.7 million",
          "4.8 million",
          "4.8 million",
          "402,804",
          "42,027",
          "42,973",
          "420.2 million",
          "44,114",
          "44.9 million",
          "448,980",
          "45,798",
          "46,838",
          "47,945",
          "472,533",
          "48,981",
          "494,595",
          "5,025",
          "5,393",
          "5,485",
          "5,999",
          "5.1 million",
          "5.3 million",
          "5.5 million",
          "5.6 million",
          "50,937",
          "500,815",
          "506,323",
          "507,250",
          "51,110",
          "515,970",
          "53,731",
          "552,555",
          "57,423",
          "6 million",
          "6,562",
          "6,565",
          "6,598",
          "6.1 million",
          "6.4 million",
          "6.5 million",
          "6.8 million",
          "617,931",
          "619,888",
          "62,663",
          "63,370",
          "63,617",
          "63,993",
          "634,471",
          "658,450",
          "66,391",
          "661,008",
          "665,741",
          "672,139",
          "68,211",
          "68,918",
          "68.4 million",
          "696,614",
          "7,059",
          "7,305",
          "7,762",
          "7,820",
          "7.6 million",
          "7.6 million",
          "70,782",
          "703,228",
          "713,421",
          "73,133",
          "735,759",
          "74,627",
          "764.5 million",
          "78,417",
          "8,090",
          "8,329",
          "8.6 million",
          "80,057",
          "82,495",
          "831,110",
          "839,347",
          "88,321",
          "88,625",
          "88,993",
          "9,105",
          "9,106",
          "9,350",
          "9,513",
          "9,611",
          "95,944",
          "97.3 million",
          "977,533",
          "98,041",
          "99.2 million",
          "994,037"
         ],
         "xaxis": "x",
         "y": [
          "12,027",
          "2,136",
          "7,625",
          "8,618",
          "1,550",
          "1,550",
          "11,341",
          "2,349",
          "36,019",
          "5,884",
          "8,530",
          "10,897",
          "20,189",
          "22,376",
          "29,378",
          "9,339",
          "16,297",
          "18,155",
          "38,316",
          "9,288",
          "9,663",
          "7,378",
          "19,072",
          "5,396",
          "9,215",
          "30,656",
          "7,098",
          "14,122",
          "8,824",
          "17,049",
          "21,167",
          "130,472",
          "1,934",
          "1.1 million",
          "1,934",
          "1,550",
          "1,550",
          "1,550",
          "2,159",
          "1,550",
          "20,119",
          "43,187",
          "3,816",
          "1,525",
          "2,631",
          "1,992",
          "1.6 million",
          "1,971",
          "2,147",
          "258,877",
          "199,352",
          "199,352",
          "120,715",
          "26,173",
          "1,468",
          "3,056",
          "2,981",
          "2,243",
          "1,550",
          "4,366",
          "1,550",
          "3,536",
          "2,205",
          "2,147",
          "1,550",
          "1,550",
          "1,550",
          "101,419",
          "1,590",
          "5,246",
          "3,632",
          "4,090",
          "1,462",
          "1,734",
          "1,525",
          "1.2 million",
          "2,444",
          "1,550",
          "4,387",
          "29,446",
          "1,550",
          "2,205",
          "2,205",
          "1,550",
          "2,716",
          "48,754",
          "1,722",
          "47,906",
          "18,924",
          "18,014",
          "25,375",
          "23,971",
          "1,550",
          "4,324",
          "4,230",
          "1,017",
          "2,991",
          "2,087",
          "1,550",
          "7,888",
          "3,583",
          "2,518",
          "398,142",
          "1,097",
          "4,149",
          "1,550",
          "2,242",
          "1,590",
          "2,147",
          "223,396",
          "2.7 million",
          "2.1 million",
          "1,399",
          "189,582",
          "1,637",
          "2,631",
          "5,685",
          "3,155",
          "1,361",
          "142,285",
          "6,881",
          "3,206",
          "1,734",
          "2,981",
          "1,529",
          "2,808",
          "1.6 million",
          "1,044",
          "2,631",
          "1,550",
          "1,550",
          "12,404",
          "68,001",
          "8,520",
          "1,550",
          "1,525",
          "34,427",
          "1,232",
          "2,796",
          "2,518",
          "74,376",
          "3,604",
          "1,590",
          "2,439",
          "1,550",
          "5,688",
          "4,058",
          "9,672",
          "1,550",
          "701,215",
          "1,550",
          "1,550",
          "3,009",
          "172,635",
          "162,603",
          "3,450",
          "4,628",
          "102,595",
          "66,444",
          "13,988",
          "220,073",
          "42,757",
          "33,947",
          "52,121",
          "12,477",
          "34,188",
          "16,336",
          "2,631",
          "3,563",
          "2.9 million",
          "1,550",
          "531,369",
          "8,746",
          "1,525",
          "1,590",
          "1,550",
          "11,112",
          "2,087",
          "11,739",
          "1,550",
          "1,550",
          "2,631",
          "2,147",
          "37,011",
          "64,497",
          "112,023",
          "26,550",
          "1,550",
          "7,574",
          "4,185",
          "6,437",
          "1,881",
          "24,826",
          "2,087",
          "5,856",
          "3,163",
          "36,711",
          "1,525",
          "1,550",
          "1,550",
          "22,318",
          "142,706",
          "119,531",
          "161,190",
          "3,001",
          "12,086",
          "6,266",
          "1,529",
          "3,450",
          "5,046",
          "19,490",
          "1,354",
          "1,550",
          "4,384",
          "2,570",
          "16,839",
          "1,424",
          "2,439",
          "1.4 million",
          "1,536",
          "1,550",
          "1,550",
          "2,518",
          "2,078",
          "146,005",
          "333,764",
          "1,550",
          "5,708",
          "10,928",
          "1,298",
          "19,880",
          "1,425",
          "6.9 million",
          "1,550",
          "1,734",
          "2,631",
          "22,992",
          "1,550",
          "1,404",
          "10,226",
          "9,641",
          "3,030",
          "2,686",
          "1,971",
          "1,590",
          "1,525",
          "1,248",
          "2,409",
          "1,550",
          "1,464",
          "1.3 million",
          "6,341",
          "1,892",
          "120,923",
          "7,118"
         ],
         "yaxis": "y"
        }
       ],
       "layout": {
        "coloraxis": {
         "colorbar": {
          "title": {
           "text": "Cluster"
          }
         },
         "colorscale": [
          [
           0,
           "#0d0887"
          ],
          [
           0.1111111111111111,
           "#46039f"
          ],
          [
           0.2222222222222222,
           "#7201a8"
          ],
          [
           0.3333333333333333,
           "#9c179e"
          ],
          [
           0.4444444444444444,
           "#bd3786"
          ],
          [
           0.5555555555555556,
           "#d8576b"
          ],
          [
           0.6666666666666666,
           "#ed7953"
          ],
          [
           0.7777777777777778,
           "#fb9f3a"
          ],
          [
           0.8888888888888888,
           "#fdca26"
          ],
          [
           1,
           "#f0f921"
          ]
         ]
        },
        "legend": {
         "tracegroupgap": 0
        },
        "template": {
         "data": {
          "bar": [
           {
            "error_x": {
             "color": "#2a3f5f"
            },
            "error_y": {
             "color": "#2a3f5f"
            },
            "marker": {
             "line": {
              "color": "#E5ECF6",
              "width": 0.5
             },
             "pattern": {
              "fillmode": "overlay",
              "size": 10,
              "solidity": 0.2
             }
            },
            "type": "bar"
           }
          ],
          "barpolar": [
           {
            "marker": {
             "line": {
              "color": "#E5ECF6",
              "width": 0.5
             },
             "pattern": {
              "fillmode": "overlay",
              "size": 10,
              "solidity": 0.2
             }
            },
            "type": "barpolar"
           }
          ],
          "carpet": [
           {
            "aaxis": {
             "endlinecolor": "#2a3f5f",
             "gridcolor": "white",
             "linecolor": "white",
             "minorgridcolor": "white",
             "startlinecolor": "#2a3f5f"
            },
            "baxis": {
             "endlinecolor": "#2a3f5f",
             "gridcolor": "white",
             "linecolor": "white",
             "minorgridcolor": "white",
             "startlinecolor": "#2a3f5f"
            },
            "type": "carpet"
           }
          ],
          "choropleth": [
           {
            "colorbar": {
             "outlinewidth": 0,
             "ticks": ""
            },
            "type": "choropleth"
           }
          ],
          "contour": [
           {
            "colorbar": {
             "outlinewidth": 0,
             "ticks": ""
            },
            "colorscale": [
             [
              0,
              "#0d0887"
             ],
             [
              0.1111111111111111,
              "#46039f"
             ],
             [
              0.2222222222222222,
              "#7201a8"
             ],
             [
              0.3333333333333333,
              "#9c179e"
             ],
             [
              0.4444444444444444,
              "#bd3786"
             ],
             [
              0.5555555555555556,
              "#d8576b"
             ],
             [
              0.6666666666666666,
              "#ed7953"
             ],
             [
              0.7777777777777778,
              "#fb9f3a"
             ],
             [
              0.8888888888888888,
              "#fdca26"
             ],
             [
              1,
              "#f0f921"
             ]
            ],
            "type": "contour"
           }
          ],
          "contourcarpet": [
           {
            "colorbar": {
             "outlinewidth": 0,
             "ticks": ""
            },
            "type": "contourcarpet"
           }
          ],
          "heatmap": [
           {
            "colorbar": {
             "outlinewidth": 0,
             "ticks": ""
            },
            "colorscale": [
             [
              0,
              "#0d0887"
             ],
             [
              0.1111111111111111,
              "#46039f"
             ],
             [
              0.2222222222222222,
              "#7201a8"
             ],
             [
              0.3333333333333333,
              "#9c179e"
             ],
             [
              0.4444444444444444,
              "#bd3786"
             ],
             [
              0.5555555555555556,
              "#d8576b"
             ],
             [
              0.6666666666666666,
              "#ed7953"
             ],
             [
              0.7777777777777778,
              "#fb9f3a"
             ],
             [
              0.8888888888888888,
              "#fdca26"
             ],
             [
              1,
              "#f0f921"
             ]
            ],
            "type": "heatmap"
           }
          ],
          "heatmapgl": [
           {
            "colorbar": {
             "outlinewidth": 0,
             "ticks": ""
            },
            "colorscale": [
             [
              0,
              "#0d0887"
             ],
             [
              0.1111111111111111,
              "#46039f"
             ],
             [
              0.2222222222222222,
              "#7201a8"
             ],
             [
              0.3333333333333333,
              "#9c179e"
             ],
             [
              0.4444444444444444,
              "#bd3786"
             ],
             [
              0.5555555555555556,
              "#d8576b"
             ],
             [
              0.6666666666666666,
              "#ed7953"
             ],
             [
              0.7777777777777778,
              "#fb9f3a"
             ],
             [
              0.8888888888888888,
              "#fdca26"
             ],
             [
              1,
              "#f0f921"
             ]
            ],
            "type": "heatmapgl"
           }
          ],
          "histogram": [
           {
            "marker": {
             "pattern": {
              "fillmode": "overlay",
              "size": 10,
              "solidity": 0.2
             }
            },
            "type": "histogram"
           }
          ],
          "histogram2d": [
           {
            "colorbar": {
             "outlinewidth": 0,
             "ticks": ""
            },
            "colorscale": [
             [
              0,
              "#0d0887"
             ],
             [
              0.1111111111111111,
              "#46039f"
             ],
             [
              0.2222222222222222,
              "#7201a8"
             ],
             [
              0.3333333333333333,
              "#9c179e"
             ],
             [
              0.4444444444444444,
              "#bd3786"
             ],
             [
              0.5555555555555556,
              "#d8576b"
             ],
             [
              0.6666666666666666,
              "#ed7953"
             ],
             [
              0.7777777777777778,
              "#fb9f3a"
             ],
             [
              0.8888888888888888,
              "#fdca26"
             ],
             [
              1,
              "#f0f921"
             ]
            ],
            "type": "histogram2d"
           }
          ],
          "histogram2dcontour": [
           {
            "colorbar": {
             "outlinewidth": 0,
             "ticks": ""
            },
            "colorscale": [
             [
              0,
              "#0d0887"
             ],
             [
              0.1111111111111111,
              "#46039f"
             ],
             [
              0.2222222222222222,
              "#7201a8"
             ],
             [
              0.3333333333333333,
              "#9c179e"
             ],
             [
              0.4444444444444444,
              "#bd3786"
             ],
             [
              0.5555555555555556,
              "#d8576b"
             ],
             [
              0.6666666666666666,
              "#ed7953"
             ],
             [
              0.7777777777777778,
              "#fb9f3a"
             ],
             [
              0.8888888888888888,
              "#fdca26"
             ],
             [
              1,
              "#f0f921"
             ]
            ],
            "type": "histogram2dcontour"
           }
          ],
          "mesh3d": [
           {
            "colorbar": {
             "outlinewidth": 0,
             "ticks": ""
            },
            "type": "mesh3d"
           }
          ],
          "parcoords": [
           {
            "line": {
             "colorbar": {
              "outlinewidth": 0,
              "ticks": ""
             }
            },
            "type": "parcoords"
           }
          ],
          "pie": [
           {
            "automargin": true,
            "type": "pie"
           }
          ],
          "scatter": [
           {
            "fillpattern": {
             "fillmode": "overlay",
             "size": 10,
             "solidity": 0.2
            },
            "type": "scatter"
           }
          ],
          "scatter3d": [
           {
            "line": {
             "colorbar": {
              "outlinewidth": 0,
              "ticks": ""
             }
            },
            "marker": {
             "colorbar": {
              "outlinewidth": 0,
              "ticks": ""
             }
            },
            "type": "scatter3d"
           }
          ],
          "scattercarpet": [
           {
            "marker": {
             "colorbar": {
              "outlinewidth": 0,
              "ticks": ""
             }
            },
            "type": "scattercarpet"
           }
          ],
          "scattergeo": [
           {
            "marker": {
             "colorbar": {
              "outlinewidth": 0,
              "ticks": ""
             }
            },
            "type": "scattergeo"
           }
          ],
          "scattergl": [
           {
            "marker": {
             "colorbar": {
              "outlinewidth": 0,
              "ticks": ""
             }
            },
            "type": "scattergl"
           }
          ],
          "scattermapbox": [
           {
            "marker": {
             "colorbar": {
              "outlinewidth": 0,
              "ticks": ""
             }
            },
            "type": "scattermapbox"
           }
          ],
          "scatterpolar": [
           {
            "marker": {
             "colorbar": {
              "outlinewidth": 0,
              "ticks": ""
             }
            },
            "type": "scatterpolar"
           }
          ],
          "scatterpolargl": [
           {
            "marker": {
             "colorbar": {
              "outlinewidth": 0,
              "ticks": ""
             }
            },
            "type": "scatterpolargl"
           }
          ],
          "scatterternary": [
           {
            "marker": {
             "colorbar": {
              "outlinewidth": 0,
              "ticks": ""
             }
            },
            "type": "scatterternary"
           }
          ],
          "surface": [
           {
            "colorbar": {
             "outlinewidth": 0,
             "ticks": ""
            },
            "colorscale": [
             [
              0,
              "#0d0887"
             ],
             [
              0.1111111111111111,
              "#46039f"
             ],
             [
              0.2222222222222222,
              "#7201a8"
             ],
             [
              0.3333333333333333,
              "#9c179e"
             ],
             [
              0.4444444444444444,
              "#bd3786"
             ],
             [
              0.5555555555555556,
              "#d8576b"
             ],
             [
              0.6666666666666666,
              "#ed7953"
             ],
             [
              0.7777777777777778,
              "#fb9f3a"
             ],
             [
              0.8888888888888888,
              "#fdca26"
             ],
             [
              1,
              "#f0f921"
             ]
            ],
            "type": "surface"
           }
          ],
          "table": [
           {
            "cells": {
             "fill": {
              "color": "#EBF0F8"
             },
             "line": {
              "color": "white"
             }
            },
            "header": {
             "fill": {
              "color": "#C8D4E3"
             },
             "line": {
              "color": "white"
             }
            },
            "type": "table"
           }
          ]
         },
         "layout": {
          "annotationdefaults": {
           "arrowcolor": "#2a3f5f",
           "arrowhead": 0,
           "arrowwidth": 1
          },
          "autotypenumbers": "strict",
          "coloraxis": {
           "colorbar": {
            "outlinewidth": 0,
            "ticks": ""
           }
          },
          "colorscale": {
           "diverging": [
            [
             0,
             "#8e0152"
            ],
            [
             0.1,
             "#c51b7d"
            ],
            [
             0.2,
             "#de77ae"
            ],
            [
             0.3,
             "#f1b6da"
            ],
            [
             0.4,
             "#fde0ef"
            ],
            [
             0.5,
             "#f7f7f7"
            ],
            [
             0.6,
             "#e6f5d0"
            ],
            [
             0.7,
             "#b8e186"
            ],
            [
             0.8,
             "#7fbc41"
            ],
            [
             0.9,
             "#4d9221"
            ],
            [
             1,
             "#276419"
            ]
           ],
           "sequential": [
            [
             0,
             "#0d0887"
            ],
            [
             0.1111111111111111,
             "#46039f"
            ],
            [
             0.2222222222222222,
             "#7201a8"
            ],
            [
             0.3333333333333333,
             "#9c179e"
            ],
            [
             0.4444444444444444,
             "#bd3786"
            ],
            [
             0.5555555555555556,
             "#d8576b"
            ],
            [
             0.6666666666666666,
             "#ed7953"
            ],
            [
             0.7777777777777778,
             "#fb9f3a"
            ],
            [
             0.8888888888888888,
             "#fdca26"
            ],
            [
             1,
             "#f0f921"
            ]
           ],
           "sequentialminus": [
            [
             0,
             "#0d0887"
            ],
            [
             0.1111111111111111,
             "#46039f"
            ],
            [
             0.2222222222222222,
             "#7201a8"
            ],
            [
             0.3333333333333333,
             "#9c179e"
            ],
            [
             0.4444444444444444,
             "#bd3786"
            ],
            [
             0.5555555555555556,
             "#d8576b"
            ],
            [
             0.6666666666666666,
             "#ed7953"
            ],
            [
             0.7777777777777778,
             "#fb9f3a"
            ],
            [
             0.8888888888888888,
             "#fdca26"
            ],
            [
             1,
             "#f0f921"
            ]
           ]
          },
          "colorway": [
           "#636efa",
           "#EF553B",
           "#00cc96",
           "#ab63fa",
           "#FFA15A",
           "#19d3f3",
           "#FF6692",
           "#B6E880",
           "#FF97FF",
           "#FECB52"
          ],
          "font": {
           "color": "#2a3f5f"
          },
          "geo": {
           "bgcolor": "white",
           "lakecolor": "white",
           "landcolor": "#E5ECF6",
           "showlakes": true,
           "showland": true,
           "subunitcolor": "white"
          },
          "hoverlabel": {
           "align": "left"
          },
          "hovermode": "closest",
          "mapbox": {
           "style": "light"
          },
          "paper_bgcolor": "white",
          "plot_bgcolor": "#E5ECF6",
          "polar": {
           "angularaxis": {
            "gridcolor": "white",
            "linecolor": "white",
            "ticks": ""
           },
           "bgcolor": "#E5ECF6",
           "radialaxis": {
            "gridcolor": "white",
            "linecolor": "white",
            "ticks": ""
           }
          },
          "scene": {
           "xaxis": {
            "backgroundcolor": "#E5ECF6",
            "gridcolor": "white",
            "gridwidth": 2,
            "linecolor": "white",
            "showbackground": true,
            "ticks": "",
            "zerolinecolor": "white"
           },
           "yaxis": {
            "backgroundcolor": "#E5ECF6",
            "gridcolor": "white",
            "gridwidth": 2,
            "linecolor": "white",
            "showbackground": true,
            "ticks": "",
            "zerolinecolor": "white"
           },
           "zaxis": {
            "backgroundcolor": "#E5ECF6",
            "gridcolor": "white",
            "gridwidth": 2,
            "linecolor": "white",
            "showbackground": true,
            "ticks": "",
            "zerolinecolor": "white"
           }
          },
          "shapedefaults": {
           "line": {
            "color": "#2a3f5f"
           }
          },
          "ternary": {
           "aaxis": {
            "gridcolor": "white",
            "linecolor": "white",
            "ticks": ""
           },
           "baxis": {
            "gridcolor": "white",
            "linecolor": "white",
            "ticks": ""
           },
           "bgcolor": "#E5ECF6",
           "caxis": {
            "gridcolor": "white",
            "linecolor": "white",
            "ticks": ""
           }
          },
          "title": {
           "x": 0.05
          },
          "xaxis": {
           "automargin": true,
           "gridcolor": "white",
           "linecolor": "white",
           "ticks": "",
           "title": {
            "standoff": 15
           },
           "zerolinecolor": "white",
           "zerolinewidth": 2
          },
          "yaxis": {
           "automargin": true,
           "gridcolor": "white",
           "linecolor": "white",
           "ticks": "",
           "title": {
            "standoff": 15
           },
           "zerolinecolor": "white",
           "zerolinewidth": 2
          }
         }
        },
        "title": {
         "text": "COVID-19 Clusters by Country (Dataset 2)",
         "x": 0.5,
         "xanchor": "center",
         "y": 0.95,
         "yanchor": "top"
        },
        "xaxis": {
         "anchor": "y",
         "domain": [
          0,
          1
         ],
         "title": {
          "text": "Total Confirmed COVID-19 Cases"
         }
        },
        "yaxis": {
         "anchor": "x",
         "domain": [
          0,
          1
         ],
         "title": {
          "text": "Total Confirmed COVID-19 Deaths"
         }
        }
       }
      }
     },
     "metadata": {},
     "output_type": "display_data"
    }
   ],
   "source": [
    "\n",
    "\n",
    "\n",
    "# We need to select a wide range of colors to represent the number of clusters\n",
    "\n",
    "colors = ['#1f77b4', '#ff7f0e', '#2ca02c', '#d62728', '#9467bd', \n",
    "          '#8c564b', '#e377c2', '#7f7f7f', '#bcbd22', '#17becf', \n",
    "          '#f57c00', '#3f51b5', '#008080', '#006400', '#ffd700', \n",
    "          '#1e90ff', '#9932cc', '#ff1493', '#dc143c']\n",
    "\n",
    "# Sort the data so it is easier to work with alter on \n",
    "\n",
    "sorted_data = dataset2.sort_values(by=['Cumulative Total of Confirmed Covid-19 Cases', 'Cumulative Total of Confirmed Covid-19 Deaths'], ascending=True)\n",
    "\n",
    "# Add a column of data for the number of clusters\n",
    "\n",
    "sorted_data['ClusterCount'] = sorted_data.groupby('Cluster')['Cluster'].transform('count')\n",
    "\n",
    "# Make the scatter plot, x is number of cases, y is number of deaths\n",
    "\n",
    "fig = px.scatter(sorted_data, \n",
    "                 x='Cumulative Total of Confirmed Covid-19 Cases', \n",
    "                 y='Cumulative Total of Confirmed Covid-19 Deaths', \n",
    "                 color='Cluster', \n",
    "                 title='COVID-19 Clusters by Country (Dataset 2)', \n",
    "                 color_discrete_sequence=colors,\n",
    "                 hover_name='Country or Location')\n",
    "\n",
    "\n",
    "# Fixing up and resizing the scatter plot\n",
    "\n",
    "fig.update_layout(\n",
    "    title={\n",
    "        'text': \"COVID-19 Clusters by Country (Dataset 2)\",\n",
    "        'x': 0.5,\n",
    "        'y': 0.95,\n",
    "        'xanchor': 'center',\n",
    "        'yanchor': 'top'},\n",
    "    xaxis_title='Total Confirmed COVID-19 Cases', \n",
    "    yaxis_title='Total Confirmed COVID-19 Deaths',\n",
    "    title_x=0.5)\n",
    "\n",
    "fig.update_traces(marker_size=10, marker_opacity=0.7)\n",
    "\n",
    "\n",
    "fig.write_html(\"covid19_predictional_algorithm_cluster.html\")\n",
    "\n",
    "\n",
    "fig.show()\n"
   ]
  },
  {
   "cell_type": "markdown",
   "metadata": {},
   "source": [
    "Please view the html image files for a more detailed description of the scatter plot and each data point or if github does not output\n",
    "the figure correctly."
   ]
  }
 ],
 "metadata": {
  "kernelspec": {
   "display_name": "Python 3.10.10 64-bit",
   "language": "python",
   "name": "python3"
  },
  "language_info": {
   "codemirror_mode": {
    "name": "ipython",
    "version": 3
   },
   "file_extension": ".py",
   "mimetype": "text/x-python",
   "name": "python",
   "nbconvert_exporter": "python",
   "pygments_lexer": "ipython3",
   "version": "3.10.10"
  },
  "orig_nbformat": 4,
  "vscode": {
   "interpreter": {
    "hash": "b0fa6594d8f4cbf19f97940f81e996739fb7646882a419484c72d19e05852a7e"
   }
  }
 },
 "nbformat": 4,
 "nbformat_minor": 2
}
